{
 "cells": [
  {
   "cell_type": "markdown",
   "metadata": {},
   "source": [
    "# ESM 267: ArcGIS API for Python: data import demo\n",
    "\n",
    "Import a GeoJSON data file into ArcGIS Online and publish it as a feature service.\n",
    "\n",
    "Specify the local file we want to publish, and its properties:"
   ]
  },
  {
   "cell_type": "code",
   "execution_count": 7,
   "metadata": {},
   "outputs": [],
   "source": [
    "data_file = \"studyArea.zip\"\n",
    "\n",
    "data_properties = {\n",
    "    'type' : 'Shapefile',\n",
    "    'title': 'Bouffard - Osa Study Area' # NOTE: Change this if you want to run this example!\n",
    "}"
   ]
  },
  {
   "cell_type": "code",
   "execution_count": 1,
   "metadata": {},
   "outputs": [],
   "source": [
    "data_file2 = \"endangered_birds.zip\"\n",
    "\n",
    "data_properties2 = {\n",
    "    'type' : 'Shapefile',\n",
    "    'title': 'Bouffard - Sensitive Birds' # NOTE: Change this if you want to run this example!\n",
    "}"
   ]
  },
  {
   "cell_type": "code",
   "execution_count": 9,
   "metadata": {},
   "outputs": [],
   "source": [
    "data_file3 = \"riparian_clip.zip\"\n",
    "\n",
    "data_properties3 = {\n",
    "    'type' : 'Shapefile',\n",
    "    'title': 'Bouffard - Riparian Areas' # NOTE: Change this if you want to run this example!\n",
    "}"
   ]
  },
  {
   "cell_type": "code",
   "execution_count": 5,
   "metadata": {},
   "outputs": [],
   "source": [
    "data_file4 = \"Corcovado.zip\"\n",
    "\n",
    "data_properties4 = {\n",
    "    'type' : 'Shapefile',\n",
    "    'title': 'Bouffard - Corcovado National Park' # NOTE: Change this if you want to run this example!\n",
    "}"
   ]
  },
  {
   "cell_type": "code",
   "execution_count": 4,
   "metadata": {},
   "outputs": [],
   "source": [
    "data_file5 = \"LaAmistad.zip\"\n",
    "\n",
    "data_properties5 = {\n",
    "    'type' : 'Shapefile',\n",
    "    'title': 'Bouffard - La Amistad International Peace Park' # NOTE: Change this if you want to run this example!\n",
    "}"
   ]
  },
  {
   "cell_type": "code",
   "execution_count": 20,
   "metadata": {},
   "outputs": [],
   "source": [
    "data_file6 = \"PierdrasBlancas.zip\"\n",
    "\n",
    "data_properties6 = {\n",
    "    'type' : 'Shapefile',\n",
    "    'title': 'Bouffard - Pierdras Blancas Protected Area' # NOTE: Change this if you want to run this example!\n",
    "}"
   ]
  },
  {
   "cell_type": "markdown",
   "metadata": {},
   "source": [
    "Specify the ArcGIS Online service we want to connect to, and the client ID we'll authenticate with. (See https://developers.arcgis.com/python/guide/working-with-different-authentication-schemes/#User-authentication-with-OAuth-2.0 for instructions on how to set `my_App_ID`.)"
   ]
  },
  {
   "cell_type": "code",
   "execution_count": 7,
   "metadata": {},
   "outputs": [],
   "source": [
    "my_server = \"https://ucsb.maps.arcgis.com\" # this is the UCSB institutional ArcGIS Online server\n",
    "my_App_ID = \"cz6gFion87bjpHgX\""
   ]
  },
  {
   "cell_type": "markdown",
   "metadata": {},
   "source": [
    "(You shouldn't have to change anything below here.)\n",
    "\n",
    "Import (parts of) any other modules we need:"
   ]
  },
  {
   "cell_type": "code",
   "execution_count": 10,
   "metadata": {},
   "outputs": [],
   "source": [
    "from arcgis.gis import GIS"
   ]
  },
  {
   "cell_type": "markdown",
   "metadata": {},
   "source": [
    "Create a GIS instance on the ArcGIS Online server. (This will invoke any necessary authentication dialogues. Don't worry if you get an `Unverified HTTPS request` error message.)"
   ]
  },
  {
   "cell_type": "code",
   "execution_count": 11,
   "metadata": {},
   "outputs": [
    {
     "name": "stdout",
     "output_type": "stream",
     "text": [
      "Please sign in to your GIS and paste the code that is obtained below.\n",
      "If a web browser does not automatically open, please navigate to the URL below yourself instead.\n",
      "Opening web browser to navigate to: https://ucsb.maps.arcgis.com/sharing/rest//oauth2/authorize?response_type=code&client_id=cz6gFion87bjpHgX&redirect_uri=urn%3Aietf%3Awg%3Aoauth%3A2.0%3Aoob&state=mgSSCAKbLB0AuAS2HqyJSYHKmSJcDM\n"
     ]
    },
    {
     "name": "stdin",
     "output_type": "stream",
     "text": [
      "Enter code obtained on signing in using SAML:  ············································································································································································································································\n"
     ]
    },
    {
     "name": "stderr",
     "output_type": "stream",
     "text": [
      "C:\\Users\\arc\\miniconda3\\envs\\arcgis\\lib\\site-packages\\urllib3\\connectionpool.py:1020: InsecureRequestWarning: Unverified HTTPS request is being made to host 'ucsb.maps.arcgis.com'. Adding certificate verification is strongly advised. See: https://urllib3.readthedocs.io/en/latest/advanced-usage.html#ssl-warnings\n",
      "  InsecureRequestWarning,\n"
     ]
    }
   ],
   "source": [
    "my_gis = GIS(my_server, client_id = my_App_ID)"
   ]
  },
  {
   "cell_type": "markdown",
   "metadata": {},
   "source": [
    "Upload the data file."
   ]
  },
  {
   "cell_type": "code",
   "execution_count": 14,
   "metadata": {},
   "outputs": [
    {
     "data": {
      "text/html": [
       "<div class=\"item_container\" style=\"height: auto; overflow: hidden; border: 1px solid #cfcfcf; border-radius: 2px; background: #f6fafa; line-height: 1.21429em; padding: 10px;\">\n",
       "                    <div class=\"item_left\" style=\"width: 210px; float: left;\">\n",
       "                       <a href='https://ucsb.maps.arcgis.com/home/item.html?id=595fe9622e82417b99e892dab06007b7' target='_blank'>\n",
       "                        <img src='http://static.arcgis.com/images/desktopapp.png' class=\"itemThumbnail\">\n",
       "                       </a>\n",
       "                    </div>\n",
       "\n",
       "                    <div class=\"item_right\"     style=\"float: none; width: auto; overflow: hidden;\">\n",
       "                        <a href='https://ucsb.maps.arcgis.com/home/item.html?id=595fe9622e82417b99e892dab06007b7' target='_blank'><b>Bouffard - Osa Study Area</b>\n",
       "                        </a>\n",
       "                        <br/><img src='https://ucsb.maps.arcgis.com/home/js/jsapi/esri/css/images/item_type_icons/datafiles16.png' style=\"vertical-align:middle;\">Shapefile by mariebouffard@umail.ucsb.edu_ucsb\n",
       "                        <br/>Last Modified: December 20, 2020\n",
       "                        <br/>0 comments, 0 views\n",
       "                    </div>\n",
       "                </div>\n",
       "                "
      ],
      "text/plain": [
       "<Item title:\"Bouffard - Osa Study Area\" type:Shapefile owner:mariebouffard@umail.ucsb.edu_ucsb>"
      ]
     },
     "execution_count": 14,
     "metadata": {},
     "output_type": "execute_result"
    }
   ],
   "source": [
    "data_item = my_gis.content.add(item_properties = data_properties, data = data_file)\n",
    "data_item"
   ]
  },
  {
   "cell_type": "markdown",
   "metadata": {},
   "source": [
    "Publish the data file as a feature layer."
   ]
  },
  {
   "cell_type": "code",
   "execution_count": 16,
   "metadata": {},
   "outputs": [
    {
     "ename": "KeyError",
     "evalue": "'type'",
     "output_type": "error",
     "traceback": [
      "\u001b[1;31m---------------------------------------------------------------------------\u001b[0m",
      "\u001b[1;31mKeyError\u001b[0m                                  Traceback (most recent call last)",
      "\u001b[1;32m<ipython-input-16-795c7c8e6900>\u001b[0m in \u001b[0;36m<module>\u001b[1;34m\u001b[0m\n\u001b[1;32m----> 1\u001b[1;33m \u001b[0mdata_feature_layer\u001b[0m \u001b[1;33m=\u001b[0m \u001b[0mdata_item\u001b[0m\u001b[1;33m.\u001b[0m\u001b[0mpublish\u001b[0m\u001b[1;33m(\u001b[0m\u001b[1;33m)\u001b[0m\u001b[1;33m\u001b[0m\u001b[1;33m\u001b[0m\u001b[0m\n\u001b[0m\u001b[0;32m      2\u001b[0m \u001b[0mdata_feature_layer\u001b[0m\u001b[1;33m\u001b[0m\u001b[1;33m\u001b[0m\u001b[0m\n",
      "\u001b[1;32m~\\miniconda3\\envs\\arcgis\\lib\\site-packages\\arcgis\\gis\\__init__.py\u001b[0m in \u001b[0;36mpublish\u001b[1;34m(self, publish_parameters, address_fields, output_type, overwrite, file_type, build_initial_cache, item_id)\u001b[0m\n\u001b[0;32m  10351\u001b[0m         \u001b[1;32melif\u001b[0m \u001b[1;32mnot\u001b[0m \u001b[0mbuildInitialCache\u001b[0m \u001b[1;32mand\u001b[0m \u001b[0moutput_type\u001b[0m \u001b[1;32mis\u001b[0m \u001b[1;32mnot\u001b[0m \u001b[1;32mNone\u001b[0m \u001b[1;32mand\u001b[0m \u001b[0moutput_type\u001b[0m\u001b[1;33m.\u001b[0m\u001b[0mlower\u001b[0m\u001b[1;33m(\u001b[0m\u001b[1;33m)\u001b[0m \u001b[1;32min\u001b[0m \u001b[1;33m[\u001b[0m\u001b[1;34m'sceneservice'\u001b[0m\u001b[1;33m]\u001b[0m\u001b[1;33m:\u001b[0m\u001b[1;33m\u001b[0m\u001b[1;33m\u001b[0m\u001b[0m\n\u001b[0;32m  10352\u001b[0m             \u001b[1;32mreturn\u001b[0m \u001b[0mItem\u001b[0m\u001b[1;33m(\u001b[0m\u001b[0mself\u001b[0m\u001b[1;33m.\u001b[0m\u001b[0m_gis\u001b[0m\u001b[1;33m,\u001b[0m \u001b[0mret\u001b[0m\u001b[1;33m[\u001b[0m\u001b[1;36m0\u001b[0m\u001b[1;33m]\u001b[0m\u001b[1;33m[\u001b[0m\u001b[1;34m'serviceItemId'\u001b[0m\u001b[1;33m]\u001b[0m\u001b[1;33m)\u001b[0m\u001b[1;33m\u001b[0m\u001b[1;33m\u001b[0m\u001b[0m\n\u001b[1;32m> 10353\u001b[1;33m         \u001b[1;32melif\u001b[0m \u001b[1;32mnot\u001b[0m \u001b[0mbuildInitialCache\u001b[0m \u001b[1;32mand\u001b[0m \u001b[0mret\u001b[0m\u001b[1;33m[\u001b[0m\u001b[1;36m0\u001b[0m\u001b[1;33m]\u001b[0m\u001b[1;33m[\u001b[0m\u001b[1;34m'type'\u001b[0m\u001b[1;33m]\u001b[0m\u001b[1;33m.\u001b[0m\u001b[0mlower\u001b[0m\u001b[1;33m(\u001b[0m\u001b[1;33m)\u001b[0m \u001b[1;33m==\u001b[0m \u001b[1;34m'image service'\u001b[0m\u001b[1;33m:\u001b[0m\u001b[1;33m\u001b[0m\u001b[1;33m\u001b[0m\u001b[0m\n\u001b[0m\u001b[0;32m  10354\u001b[0m             \u001b[1;32mreturn\u001b[0m \u001b[0mItem\u001b[0m\u001b[1;33m(\u001b[0m\u001b[0mself\u001b[0m\u001b[1;33m.\u001b[0m\u001b[0m_gis\u001b[0m\u001b[1;33m,\u001b[0m \u001b[0mret\u001b[0m\u001b[1;33m[\u001b[0m\u001b[1;36m0\u001b[0m\u001b[1;33m]\u001b[0m\u001b[1;33m[\u001b[0m\u001b[1;34m'serviceItemId'\u001b[0m\u001b[1;33m]\u001b[0m\u001b[1;33m)\u001b[0m\u001b[1;33m\u001b[0m\u001b[1;33m\u001b[0m\u001b[0m\n\u001b[0;32m  10355\u001b[0m         \u001b[1;32melse\u001b[0m\u001b[1;33m:\u001b[0m\u001b[1;33m\u001b[0m\u001b[1;33m\u001b[0m\u001b[0m\n",
      "\u001b[1;31mKeyError\u001b[0m: 'type'"
     ]
    }
   ],
   "source": [
    "data_feature_layer = data_item.publish()\n",
    "data_feature_layer"
   ]
  },
  {
   "cell_type": "markdown",
   "metadata": {},
   "source": [
    "Make the data file and feature layer public (accessible to anyone)."
   ]
  },
  {
   "cell_type": "code",
   "execution_count": 17,
   "metadata": {},
   "outputs": [
    {
     "data": {
      "text/plain": [
       "{'results': [{'itemId': '9e1db218e5244675aed7fa4d1a5c82f3',\n",
       "   'success': True,\n",
       "   'notSharedWith': []}]}"
      ]
     },
     "execution_count": 17,
     "metadata": {},
     "output_type": "execute_result"
    }
   ],
   "source": [
    "data_item.share(everyone = True)\n",
    "data_feature_layer.share(everyone = True)"
   ]
  },
  {
   "cell_type": "code",
   "execution_count": 5,
   "metadata": {},
   "outputs": [
    {
     "data": {
      "text/plain": [
       "{'results': [{'itemId': '03eca0284c1940488391dfb1c0e6f7b2',\n",
       "   'success': True,\n",
       "   'notSharedWith': []}]}"
      ]
     },
     "execution_count": 5,
     "metadata": {},
     "output_type": "execute_result"
    }
   ],
   "source": [
    "data_item2 = my_gis.content.add(item_properties = data_properties2, data = data_file2)\n",
    "data_item2\n",
    "\n",
    "data_feature_layer2 = data_item2.publish()\n",
    "data_feature_layer2\n",
    "\n",
    "data_item2.share(everyone = True)\n",
    "data_feature_layer2.share(everyone = True)"
   ]
  },
  {
   "cell_type": "code",
   "execution_count": 19,
   "metadata": {},
   "outputs": [
    {
     "data": {
      "text/plain": [
       "{'results': [{'itemId': 'aded19ccb5f94f73a913fb63653ca262',\n",
       "   'success': True,\n",
       "   'notSharedWith': []}]}"
      ]
     },
     "execution_count": 19,
     "metadata": {},
     "output_type": "execute_result"
    }
   ],
   "source": [
    "data_item3 = my_gis.content.add(item_properties = data_properties3, data = data_file3)\n",
    "data_item3\n",
    "\n",
    "data_feature_layer3 = data_item3.publish()\n",
    "data_feature_layer3\n",
    "\n",
    "data_item3.share(everyone = True)\n",
    "data_feature_layer3.share(everyone = True)"
   ]
  },
  {
   "cell_type": "code",
   "execution_count": 15,
   "metadata": {},
   "outputs": [
    {
     "data": {
      "text/plain": [
       "{'results': [{'itemId': '4ddc5d601fb741a4a7d8435cd789b4df',\n",
       "   'success': True,\n",
       "   'notSharedWith': []}]}"
      ]
     },
     "execution_count": 15,
     "metadata": {},
     "output_type": "execute_result"
    }
   ],
   "source": [
    "data_item4 = my_gis.content.add(item_properties = data_properties4, data = data_file4)\n",
    "data_item4\n",
    "\n",
    "data_feature_layer4 = data_item4.publish()\n",
    "data_feature_layer4\n",
    "\n",
    "data_item4.share(everyone = True)\n",
    "data_feature_layer4.share(everyone = True)"
   ]
  },
  {
   "cell_type": "code",
   "execution_count": 16,
   "metadata": {},
   "outputs": [
    {
     "data": {
      "text/plain": [
       "{'results': [{'itemId': 'aa55288abcc74e4fa6ed7bff1d67722c',\n",
       "   'success': True,\n",
       "   'notSharedWith': []}]}"
      ]
     },
     "execution_count": 16,
     "metadata": {},
     "output_type": "execute_result"
    }
   ],
   "source": [
    "data_item5 = my_gis.content.add(item_properties = data_properties5, data = data_file5)\n",
    "data_item5\n",
    "\n",
    "data_feature_layer5 = data_item5.publish()\n",
    "data_feature_layer5\n",
    "\n",
    "data_item5.share(everyone = True)\n",
    "data_feature_layer5.share(everyone = True)"
   ]
  },
  {
   "cell_type": "code",
   "execution_count": 21,
   "metadata": {},
   "outputs": [
    {
     "data": {
      "text/plain": [
       "{'results': [{'itemId': 'ed626117c33e4d99b523742ee3a315e8',\n",
       "   'success': True,\n",
       "   'notSharedWith': []}]}"
      ]
     },
     "execution_count": 21,
     "metadata": {},
     "output_type": "execute_result"
    }
   ],
   "source": [
    "data_item6 = my_gis.content.add(item_properties = data_properties6, data = data_file6)\n",
    "data_item6\n",
    "\n",
    "data_feature_layer6 = data_item6.publish()\n",
    "data_feature_layer6\n",
    "\n",
    "data_item6.share(everyone = True)\n",
    "data_feature_layer6.share(everyone = True)"
   ]
  },
  {
   "cell_type": "code",
   "execution_count": null,
   "metadata": {},
   "outputs": [],
   "source": []
  }
 ],
 "metadata": {
  "kernelspec": {
   "display_name": "Python 3",
   "language": "python",
   "name": "python3"
  },
  "language_info": {
   "codemirror_mode": {
    "name": "ipython",
    "version": 3
   },
   "file_extension": ".py",
   "mimetype": "text/x-python",
   "name": "python",
   "nbconvert_exporter": "python",
   "pygments_lexer": "ipython3",
   "version": "3.7.9"
  }
 },
 "nbformat": 4,
 "nbformat_minor": 4
}
