{
 "cells": [
  {
   "cell_type": "markdown",
   "metadata": {},
   "source": [
    "# ESM 267: ArcGIS API for Python: map demo\n",
    "\n",
    "Add layers to a map.\n",
    "\n",
    "Specify the id(s) of the layer(s):"
   ]
  },
  {
   "cell_type": "code",
   "execution_count": 162,
   "metadata": {},
   "outputs": [],
   "source": [
    "study_area_id = \"9e1db218e5244675aed7fa4d1a5c82f3\""
   ]
  },
  {
   "cell_type": "code",
   "execution_count": 163,
   "metadata": {},
   "outputs": [],
   "source": [
    "birds_id = \"03eca0284c1940488391dfb1c0e6f7b2\""
   ]
  },
  {
   "cell_type": "code",
   "execution_count": 164,
   "metadata": {},
   "outputs": [],
   "source": [
    "corcovado_id = \"4ddc5d601fb741a4a7d8435cd789b4df\""
   ]
  },
  {
   "cell_type": "code",
   "execution_count": 165,
   "metadata": {},
   "outputs": [],
   "source": [
    "LaAmistad_id = \"aa55288abcc74e4fa6ed7bff1d67722c\""
   ]
  },
  {
   "cell_type": "code",
   "execution_count": 166,
   "metadata": {},
   "outputs": [],
   "source": [
    "PierdrasBlancas_id = \"ed626117c33e4d99b523742ee3a315e8\""
   ]
  },
  {
   "cell_type": "markdown",
   "metadata": {},
   "source": [
    "Specify the ArcGIS Online service we want to connect to, and the client ID we'll authenticate with. (See https://developers.arcgis.com/python/guide/working-with-different-authentication-schemes/#User-authentication-with-OAuth-2.0 for instructions on how to set `my_App_ID`.)"
   ]
  },
  {
   "cell_type": "code",
   "execution_count": 167,
   "metadata": {},
   "outputs": [],
   "source": [
    "my_server = \"https://ucsb.maps.arcgis.com\" # this is the UCSB institutional ArcGIS Online server\n",
    "my_App_ID = \"cz6gFion87bjpHgX\""
   ]
  },
  {
   "cell_type": "markdown",
   "metadata": {},
   "source": [
    "Import (parts of) any other modules we need:"
   ]
  },
  {
   "cell_type": "code",
   "execution_count": 168,
   "metadata": {},
   "outputs": [],
   "source": [
    "from arcgis.gis import GIS"
   ]
  },
  {
   "cell_type": "markdown",
   "metadata": {},
   "source": [
    "Create a GIS instance on the ArcGIS Online server. (This will invoke any necessary authentication dialogues. Don't worry if you get an `Unverified HTTPS request` error message.)"
   ]
  },
  {
   "cell_type": "code",
   "execution_count": 169,
   "metadata": {},
   "outputs": [
    {
     "name": "stdout",
     "output_type": "stream",
     "text": [
      "Please sign in to your GIS and paste the code that is obtained below.\n",
      "If a web browser does not automatically open, please navigate to the URL below yourself instead.\n",
      "Opening web browser to navigate to: https://ucsb.maps.arcgis.com/sharing/rest//oauth2/authorize?response_type=code&client_id=cz6gFion87bjpHgX&redirect_uri=urn%3Aietf%3Awg%3Aoauth%3A2.0%3Aoob&state=kzJMwvgSNIa5tZiKnGHtIlyaC2fBsR\n"
     ]
    },
    {
     "name": "stdin",
     "output_type": "stream",
     "text": [
      "Enter code obtained on signing in using SAML:  ············································································································································································································································\n"
     ]
    },
    {
     "name": "stderr",
     "output_type": "stream",
     "text": [
      "C:\\Users\\arc\\miniconda3\\envs\\arcgis\\lib\\site-packages\\urllib3\\connectionpool.py:1020: InsecureRequestWarning: Unverified HTTPS request is being made to host 'ucsb.maps.arcgis.com'. Adding certificate verification is strongly advised. See: https://urllib3.readthedocs.io/en/latest/advanced-usage.html#ssl-warnings\n",
      "  InsecureRequestWarning,\n"
     ]
    }
   ],
   "source": [
    "my_gis = GIS(my_server, client_id = my_App_ID)"
   ]
  },
  {
   "cell_type": "code",
   "execution_count": 170,
   "metadata": {},
   "outputs": [],
   "source": [
    "my_map = my_gis.map()"
   ]
  },
  {
   "cell_type": "markdown",
   "metadata": {},
   "source": [
    "# <center>Sensitive Bird Species Biodiversity and Abundance in Costa Rica </center>\n",
    "Costa Rica is home to around 840 bird species, more than the entirety of North America. This impressive biodiversity is due to its tropical forests with diverse vegetation and wide-ranging topography. The southern portion of Costa Rica, specifically in the Talamanca-Osa region, is a globally important bird habitat for several endangered species such as the yellow-billed Cotinga (Carpodectes antoniae), which is one of the rarest bird species in Central America. The yellow-billed Cotinga’s range used to span Costa Rica and Panama but now only lives in the small area of the Osa Peninsula in Costa Rica.\n",
    "\n",
    "### Other bird species of conservation concern that are endemic to the area include:\n",
    "<ul> \n",
    "    <li> Yellow-billed Cotinga (Carpodectes antoniae)\n",
    "    <li> Black-cheeked Ant-Tanager (Habia atrimaxillaris)\n",
    "    <li> Mangrove Hummingbird (Amazilia boucardi) \n",
    "    <li> Turquoise Cotinga (Cotinga ridgwayi)\n",
    "    <li> Baird’s Trogon (Trogon bairdii)\n",
    "    <li> Olive-sided flycatcher (Contopus cooperi)\n",
    "</ul>\n",
    "\n",
    "### These sensitive migratory species also rely on this important habitat:\n",
    "<ul> \n",
    "    <li> Wood thrush (Hylocichla mustelina)\n",
    "    <li> Golden-winged warbler (Vermivora chrysoptera) \n",
    "    <li> Kentucky warbler (Oporornis formosus) \n",
    "    <li> Prothonotary warbler (Protonotaria citrea)\n",
    "    <li> Canada warbler (Wilsonia Canadensis)\n",
    "</ul>"
   ]
  },
  {
   "cell_type": "code",
   "execution_count": 171,
   "metadata": {},
   "outputs": [
    {
     "data": {
      "text/html": [
       "<div class=\"item_container\" style=\"height: auto; overflow: hidden; border: 1px solid #cfcfcf; border-radius: 2px; background: #f6fafa; line-height: 1.21429em; padding: 10px;\">\n",
       "                    <div class=\"item_left\" style=\"width: 210px; float: left;\">\n",
       "                       <a href='https://ucsb.maps.arcgis.com/home/item.html?id=9e1db218e5244675aed7fa4d1a5c82f3' target='_blank'>\n",
       "                        <img src='data:image/png;base64,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' width='200' height='133' class=\"itemThumbnail\">\n",
       "                       </a>\n",
       "                    </div>\n",
       "\n",
       "                    <div class=\"item_right\"     style=\"float: none; width: auto; overflow: hidden;\">\n",
       "                        <a href='https://ucsb.maps.arcgis.com/home/item.html?id=9e1db218e5244675aed7fa4d1a5c82f3' target='_blank'><b>Bouffard - Osa Study Area</b>\n",
       "                        </a>\n",
       "                        <br/><img src='https://ucsb.maps.arcgis.com/home/js/jsapi/esri/css/images/item_type_icons/featureshosted16.png' style=\"vertical-align:middle;\">Feature Layer Collection by mariebouffard@umail.ucsb.edu_ucsb\n",
       "                        <br/>Last Modified: December 20, 2020\n",
       "                        <br/>0 comments, 10 views\n",
       "                    </div>\n",
       "                </div>\n",
       "                "
      ],
      "text/plain": [
       "<Item title:\"Bouffard - Osa Study Area\" type:Feature Layer Collection owner:mariebouffard@umail.ucsb.edu_ucsb>"
      ]
     },
     "execution_count": 171,
     "metadata": {},
     "output_type": "execute_result"
    }
   ],
   "source": [
    "study_area = my_gis.content.get(study_area_id)\n",
    "study_area"
   ]
  },
  {
   "cell_type": "code",
   "execution_count": 172,
   "metadata": {},
   "outputs": [],
   "source": [
    "my_map.add_layer(study_area, options={'opacity':0.4})"
   ]
  },
  {
   "cell_type": "code",
   "execution_count": 173,
   "metadata": {},
   "outputs": [
    {
     "data": {
      "text/html": [
       "<div class=\"item_container\" style=\"height: auto; overflow: hidden; border: 1px solid #cfcfcf; border-radius: 2px; background: #f6fafa; line-height: 1.21429em; padding: 10px;\">\n",
       "                    <div class=\"item_left\" style=\"width: 210px; float: left;\">\n",
       "                       <a href='https://ucsb.maps.arcgis.com/home/item.html?id=4ddc5d601fb741a4a7d8435cd789b4df' target='_blank'>\n",
       "                        <img src='data:image/png;base64,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' width='200' height='133' class=\"itemThumbnail\">\n",
       "                       </a>\n",
       "                    </div>\n",
       "\n",
       "                    <div class=\"item_right\"     style=\"float: none; width: auto; overflow: hidden;\">\n",
       "                        <a href='https://ucsb.maps.arcgis.com/home/item.html?id=4ddc5d601fb741a4a7d8435cd789b4df' target='_blank'><b>Bouffard - Corcovado National Park</b>\n",
       "                        </a>\n",
       "                        <br/>REQUIRED: A summary of the intentions with which the data set was developed.<img src='https://ucsb.maps.arcgis.com/home/js/jsapi/esri/css/images/item_type_icons/featureshosted16.png' style=\"vertical-align:middle;\">Feature Layer Collection by mariebouffard@umail.ucsb.edu_ucsb\n",
       "                        <br/>Last Modified: December 20, 2020\n",
       "                        <br/>0 comments, 14 views\n",
       "                    </div>\n",
       "                </div>\n",
       "                "
      ],
      "text/plain": [
       "<Item title:\"Bouffard - Corcovado National Park\" type:Feature Layer Collection owner:mariebouffard@umail.ucsb.edu_ucsb>"
      ]
     },
     "execution_count": 173,
     "metadata": {},
     "output_type": "execute_result"
    }
   ],
   "source": [
    "corcovado = my_gis.content.get(corcovado_id)\n",
    "corcovado"
   ]
  },
  {
   "cell_type": "code",
   "execution_count": 174,
   "metadata": {},
   "outputs": [],
   "source": [
    "my_map.add_layer(corcovado)"
   ]
  },
  {
   "cell_type": "code",
   "execution_count": 175,
   "metadata": {},
   "outputs": [
    {
     "data": {
      "text/html": [
       "<div class=\"item_container\" style=\"height: auto; overflow: hidden; border: 1px solid #cfcfcf; border-radius: 2px; background: #f6fafa; line-height: 1.21429em; padding: 10px;\">\n",
       "                    <div class=\"item_left\" style=\"width: 210px; float: left;\">\n",
       "                       <a href='https://ucsb.maps.arcgis.com/home/item.html?id=aa55288abcc74e4fa6ed7bff1d67722c' target='_blank'>\n",
       "                        <img src='data:image/png;base64,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' width='200' height='133' class=\"itemThumbnail\">\n",
       "                       </a>\n",
       "                    </div>\n",
       "\n",
       "                    <div class=\"item_right\"     style=\"float: none; width: auto; overflow: hidden;\">\n",
       "                        <a href='https://ucsb.maps.arcgis.com/home/item.html?id=aa55288abcc74e4fa6ed7bff1d67722c' target='_blank'><b>Bouffard - La Amistad International Peace Park</b>\n",
       "                        </a>\n",
       "                        <br/><img src='https://ucsb.maps.arcgis.com/home/js/jsapi/esri/css/images/item_type_icons/featureshosted16.png' style=\"vertical-align:middle;\">Feature Layer Collection by mariebouffard@umail.ucsb.edu_ucsb\n",
       "                        <br/>Last Modified: December 20, 2020\n",
       "                        <br/>0 comments, 8 views\n",
       "                    </div>\n",
       "                </div>\n",
       "                "
      ],
      "text/plain": [
       "<Item title:\"Bouffard - La Amistad International Peace Park\" type:Feature Layer Collection owner:mariebouffard@umail.ucsb.edu_ucsb>"
      ]
     },
     "execution_count": 175,
     "metadata": {},
     "output_type": "execute_result"
    }
   ],
   "source": [
    "la_amistad = my_gis.content.get(LaAmistad_id)\n",
    "la_amistad"
   ]
  },
  {
   "cell_type": "code",
   "execution_count": 176,
   "metadata": {},
   "outputs": [],
   "source": [
    "my_map.add_layer(la_amistad)"
   ]
  },
  {
   "cell_type": "code",
   "execution_count": 177,
   "metadata": {},
   "outputs": [
    {
     "data": {
      "text/html": [
       "<div class=\"item_container\" style=\"height: auto; overflow: hidden; border: 1px solid #cfcfcf; border-radius: 2px; background: #f6fafa; line-height: 1.21429em; padding: 10px;\">\n",
       "                    <div class=\"item_left\" style=\"width: 210px; float: left;\">\n",
       "                       <a href='https://ucsb.maps.arcgis.com/home/item.html?id=ed626117c33e4d99b523742ee3a315e8' target='_blank'>\n",
       "                        <img src='data:image/png;base64,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' width='200' height='133' class=\"itemThumbnail\">\n",
       "                       </a>\n",
       "                    </div>\n",
       "\n",
       "                    <div class=\"item_right\"     style=\"float: none; width: auto; overflow: hidden;\">\n",
       "                        <a href='https://ucsb.maps.arcgis.com/home/item.html?id=ed626117c33e4d99b523742ee3a315e8' target='_blank'><b>Bouffard - Pierdras Blancas Protected Area</b>\n",
       "                        </a>\n",
       "                        <br/><img src='https://ucsb.maps.arcgis.com/home/js/jsapi/esri/css/images/item_type_icons/featureshosted16.png' style=\"vertical-align:middle;\">Feature Layer Collection by mariebouffard@umail.ucsb.edu_ucsb\n",
       "                        <br/>Last Modified: December 20, 2020\n",
       "                        <br/>0 comments, 8 views\n",
       "                    </div>\n",
       "                </div>\n",
       "                "
      ],
      "text/plain": [
       "<Item title:\"Bouffard - Pierdras Blancas Protected Area\" type:Feature Layer Collection owner:mariebouffard@umail.ucsb.edu_ucsb>"
      ]
     },
     "execution_count": 177,
     "metadata": {},
     "output_type": "execute_result"
    }
   ],
   "source": [
    "pierdras_blancas = my_gis.content.get(PierdrasBlancas_id)\n",
    "pierdras_blancas"
   ]
  },
  {
   "cell_type": "code",
   "execution_count": 178,
   "metadata": {},
   "outputs": [
    {
     "data": {
      "text/html": [
       "<div class=\"item_container\" style=\"height: auto; overflow: hidden; border: 1px solid #cfcfcf; border-radius: 2px; background: #f6fafa; line-height: 1.21429em; padding: 10px;\">\n",
       "                    <div class=\"item_left\" style=\"width: 210px; float: left;\">\n",
       "                       <a href='https://ucsb.maps.arcgis.com/home/item.html?id=03eca0284c1940488391dfb1c0e6f7b2' target='_blank'>\n",
       "                        <img src='data:image/png;base64,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' width='200' height='133' class=\"itemThumbnail\">\n",
       "                       </a>\n",
       "                    </div>\n",
       "\n",
       "                    <div class=\"item_right\"     style=\"float: none; width: auto; overflow: hidden;\">\n",
       "                        <a href='https://ucsb.maps.arcgis.com/home/item.html?id=03eca0284c1940488391dfb1c0e6f7b2' target='_blank'><b>Bouffard - Sensitive Birds</b>\n",
       "                        </a>\n",
       "                        <br/><img src='https://ucsb.maps.arcgis.com/home/js/jsapi/esri/css/images/item_type_icons/featureshosted16.png' style=\"vertical-align:middle;\">Feature Layer Collection by mariebouffard@umail.ucsb.edu_ucsb\n",
       "                        <br/>Last Modified: December 20, 2020\n",
       "                        <br/>0 comments, 12 views\n",
       "                    </div>\n",
       "                </div>\n",
       "                "
      ],
      "text/plain": [
       "<Item title:\"Bouffard - Sensitive Birds\" type:Feature Layer Collection owner:mariebouffard@umail.ucsb.edu_ucsb>"
      ]
     },
     "execution_count": 178,
     "metadata": {},
     "output_type": "execute_result"
    }
   ],
   "source": [
    "endangered_birds = my_gis.content.get(birds_id)\n",
    "endangered_birds"
   ]
  },
  {
   "cell_type": "code",
   "execution_count": 179,
   "metadata": {},
   "outputs": [],
   "source": [
    "my_map.add_layer(endangered_birds, options={'opacity':0.7})"
   ]
  },
  {
   "cell_type": "code",
   "execution_count": 180,
   "metadata": {},
   "outputs": [],
   "source": [
    "my_map.add_layer(pierdras_blancas)"
   ]
  },
  {
   "cell_type": "code",
   "execution_count": 181,
   "metadata": {},
   "outputs": [],
   "source": [
    "my_map.zoom_to_layer(endangered_birds)"
   ]
  },
  {
   "cell_type": "code",
   "execution_count": 182,
   "metadata": {},
   "outputs": [],
   "source": [
    "my_map.basemap = 'topo-vector'"
   ]
  },
  {
   "cell_type": "code",
   "execution_count": 183,
   "metadata": {},
   "outputs": [
    {
     "data": {
      "application/vnd.jupyter.widget-view+json": {
       "model_id": "d1954d13801f45f2bb49ac7bdf3dd07e",
       "version_major": 2,
       "version_minor": 0
      },
      "text/plain": [
       "MapView(layout=Layout(height='400px', width='100%'))"
      ]
     },
     "metadata": {},
     "output_type": "display_data"
    },
    {
     "data": {
      "text/html": [
       "<div class=\"map-static-img-preview-6f711d4b-0caf-4e8b-b438-30f150552ab5\"><img src=\"\"></img></div>"
      ],
      "text/plain": [
       "<IPython.core.display.HTML object>"
      ]
     },
     "metadata": {},
     "output_type": "display_data"
    },
    {
     "data": {
      "text/html": [
       "<div class=\"map-html-embed-preview-6f711d4b-0caf-4e8b-b438-30f150552ab5\"></div>"
      ],
      "text/plain": [
       "<IPython.core.display.HTML object>"
      ]
     },
     "metadata": {},
     "output_type": "display_data"
    }
   ],
   "source": [
    "my_map"
   ]
  },
  {
   "cell_type": "code",
   "execution_count": null,
   "metadata": {},
   "outputs": [],
   "source": []
  }
 ],
 "metadata": {
  "kernelspec": {
   "display_name": "Python 3",
   "language": "python",
   "name": "python3"
  },
  "language_info": {
   "codemirror_mode": {
    "name": "ipython",
    "version": 3
   },
   "file_extension": ".py",
   "mimetype": "text/x-python",
   "name": "python",
   "nbconvert_exporter": "python",
   "pygments_lexer": "ipython3",
   "version": "3.7.9"
  }
 },
 "nbformat": 4,
 "nbformat_minor": 4
}
